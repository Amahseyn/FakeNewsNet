{
  "nbformat": 4,
  "nbformat_minor": 0,
  "metadata": {
    "colab": {
      "provenance": [],
      "gpuType": "T4"
    },
    "kernelspec": {
      "name": "python3",
      "display_name": "Python 3"
    },
    "language_info": {
      "name": "python"
    },
    "accelerator": "GPU"
  },
  "cells": [
    {
      "cell_type": "markdown",
      "source": [],
      "metadata": {
        "id": "O70jPFRNox0f"
      }
    },
    {
      "cell_type": "code",
      "source": [
        "import pandas as pd\n",
        "df_buzzfeed = pd.read_csv(\"/content/drive/MyDrive/buzzfeed_news_with_filenames.csv\")\n",
        "df_politifact = pd.read_csv(\"/content/drive/MyDrive/politifact_news_with_filenames.csv\")\n",
        "\n",
        "df = pd.concat([df_buzzfeed, df_politifact], ignore_index=True)\n",
        "df['label'] = df['label'].map({'fake': 0, 'real': 1})"
      ],
      "metadata": {
        "id": "dQwoVN3U6Ul9"
      },
      "execution_count": 140,
      "outputs": []
    },
    {
      "cell_type": "code",
      "source": [
        "from transformers import DistilBertTokenizer\n",
        "from torch.utils.data import Dataset, DataLoader\n",
        "import torch\n",
        "\n",
        "tokenizer = DistilBertTokenizer.from_pretrained('distilbert-base-uncased')\n",
        "\n",
        "class NewsDataset(Dataset):\n",
        "    def __init__(self, dataframe, tokenizer, max_len=512):\n",
        "        self.data = dataframe\n",
        "        self.tokenizer = tokenizer\n",
        "        self.max_len = max_len\n",
        "\n",
        "    def __len__(self):\n",
        "        return len(self.data)\n",
        "    def __getitem__(self, idx):\n",
        "        row = self.data.iloc[idx]\n",
        "\n",
        "        title = str(row['title']) if isinstance(row['title'], str) else \"\"\n",
        "        text = str(row['text']) if isinstance(row['text'], str) else \"\"\n",
        "\n",
        "        text_combined = title + \" \" + text\n",
        "\n",
        "        encoding = self.tokenizer(\n",
        "            text_combined,\n",
        "            add_special_tokens=True,\n",
        "            max_length=self.max_len,\n",
        "            padding='max_length',\n",
        "            truncation=True,\n",
        "            return_tensors='pt'\n",
        "        )\n",
        "\n",
        "        return {\n",
        "            'input_ids': encoding['input_ids'].flatten(),\n",
        "            'attention_mask': encoding['attention_mask'].flatten(),\n",
        "            'label': torch.tensor(row['label'], dtype=torch.float)\n",
        "        }"
      ],
      "metadata": {
        "id": "wHyU7_id6GFB"
      },
      "execution_count": 141,
      "outputs": []
    },
    {
      "cell_type": "code",
      "source": [
        "from sklearn.model_selection import train_test_split\n",
        "\n",
        "train_df, test_df = train_test_split(df, test_size=0.2, random_state=42, stratify=df['label'])\n",
        "\n",
        "train_dataset = NewsDataset(train_df, tokenizer)\n",
        "test_dataset = NewsDataset(test_df, tokenizer)\n",
        "\n",
        "train_loader = DataLoader(train_dataset, batch_size=8, shuffle=True)\n",
        "test_loader = DataLoader(test_dataset, batch_size=8)"
      ],
      "metadata": {
        "id": "ZR1sawd_6MBa"
      },
      "execution_count": 142,
      "outputs": []
    },
    {
      "cell_type": "code",
      "source": [
        "class FakeNewsClassifier(nn.Module):\n",
        "    def __init__(self):\n",
        "        super(FakeNewsClassifier, self).__init__()\n",
        "        self.distilbert = DistilBertModel.from_pretrained('distilbert-base-uncased')\n",
        "        self.classifier = nn.Linear(768, 1)\n",
        "\n",
        "    def forward(self, input_ids, attention_mask):\n",
        "        outputs = self.distilbert(input_ids=input_ids, attention_mask=attention_mask)\n",
        "        cls_output = outputs.last_hidden_state[:, 0, :]\n",
        "        return self.classifier(cls_output)"
      ],
      "metadata": {
        "id": "zVuwyOVs58be"
      },
      "execution_count": 143,
      "outputs": []
    },
    {
      "cell_type": "code",
      "source": [
        "import torch.nn as nn\n",
        "\n",
        "device = torch.device(\"cuda\" if torch.cuda.is_available() else \"cpu\")\n",
        "model = FakeNewsClassifier().to(device)\n",
        "optimizer = torch.optim.AdamW(model.parameters(), lr=2e-5)\n",
        "criterion = nn.BCEWithLogitsLoss()\n",
        "\n",
        "def train_model(model, loader, optimizer, criterion,num_epochs=5):\n",
        "\n",
        "\n",
        "  for epoch in range(num_epochs):\n",
        "      model.train()\n",
        "      total_loss = 0\n",
        "      correct = 0\n",
        "\n",
        "      for batch in train_loader:\n",
        "          input_ids = batch['input_ids'].to(device)\n",
        "          attention_mask = batch['attention_mask'].to(device)\n",
        "          labels = batch['label'].unsqueeze(1).to(device)\n",
        "\n",
        "          optimizer.zero_grad()\n",
        "          outputs = model(input_ids, attention_mask)\n",
        "\n",
        "          loss = criterion(outputs, labels)\n",
        "          loss.backward()\n",
        "          optimizer.step()\n",
        "\n",
        "          total_loss += loss.item() * input_ids.size(0)\n",
        "          preds = torch.sigmoid(outputs) > 0.5\n",
        "          correct += (preds == labels.bool()).sum().item()\n",
        "\n",
        "      epoch_loss = total_loss / len(train_loader.dataset)\n",
        "      epoch_acc = correct / len(train_loader.dataset)\n",
        "\n",
        "      print(f\"Epoch {epoch+1}/{num_epochs} | Loss: {epoch_loss:.4f} | Accuracy: {epoch_acc:.4f}\")\n",
        "  return epoch_loss, epoch_acc\n",
        "\n",
        "loss, acc = train_model(model, train_loader, optimizer, criterion)\n",
        "print(f\"Final Training Loss: {loss:.4f}\")\n",
        "print(f\"Final Training Accuracy: {acc:.4f}\")"
      ],
      "metadata": {
        "id": "96LtHx1e55LI",
        "outputId": "b4d94bea-42de-4c1c-9058-19f16d0fd0c9",
        "colab": {
          "base_uri": "https://localhost:8080/"
        }
      },
      "execution_count": 144,
      "outputs": [
        {
          "output_type": "stream",
          "name": "stdout",
          "text": [
            "Epoch 1/5 | Loss: 0.6119 | Accuracy: 0.6469\n",
            "Epoch 2/5 | Loss: 0.4285 | Accuracy: 0.8071\n",
            "Epoch 3/5 | Loss: 0.2230 | Accuracy: 0.9258\n",
            "Epoch 4/5 | Loss: 0.1282 | Accuracy: 0.9555\n",
            "Epoch 5/5 | Loss: 0.0647 | Accuracy: 0.9792\n",
            "Final Training Loss: 0.0647\n",
            "Final Training Accuracy: 0.9792\n"
          ]
        }
      ]
    },
    {
      "cell_type": "code",
      "source": [
        "def evaluate_model(model, loader):\n",
        "    model.eval()\n",
        "    correct = 0\n",
        "    with torch.no_grad():\n",
        "        for batch in loader:\n",
        "            input_ids = batch['input_ids'].to(device)\n",
        "            attention_mask = batch['attention_mask'].to(device)\n",
        "            labels = batch['label'].unsqueeze(1).to(device)\n",
        "\n",
        "            outputs = model(input_ids, attention_mask)\n",
        "            preds = torch.sigmoid(outputs) > 0.5\n",
        "            correct += (preds == labels.bool()).sum().item()\n",
        "\n",
        "    return correct / len(loader.dataset)\n",
        "\n",
        "test_acc = evaluate_model(model, test_loader)\n",
        "print(f\"Test Accuracy: {test_acc:.4f}\")"
      ],
      "metadata": {
        "id": "8v-nhtxL52YQ",
        "outputId": "31d7effe-0596-43f0-947a-eb651fd2aa50",
        "colab": {
          "base_uri": "https://localhost:8080/"
        }
      },
      "execution_count": 145,
      "outputs": [
        {
          "output_type": "stream",
          "name": "stdout",
          "text": [
            "Test Accuracy: 0.8118\n"
          ]
        }
      ]
    },
    {
      "cell_type": "markdown",
      "source": [],
      "metadata": {
        "id": "9nSn21mSAkiK"
      }
    }
  ]
}